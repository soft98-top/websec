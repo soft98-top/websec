{
 "cells": [
  {
   "cell_type": "code",
   "execution_count": 1,
   "metadata": {},
   "outputs": [
    {
     "name": "stdout",
     "output_type": "stream",
     "text": [
      "False\n",
      "True\n"
     ]
    }
   ],
   "source": [
    "#判断对象是否可调用可以用 callable\n",
    "import math\n",
    "x = 1\n",
    "y = math.sqrt\n",
    "print(callable(x))\n",
    "print(callable(y))"
   ]
  },
  {
   "cell_type": "code",
   "execution_count": 2,
   "metadata": {},
   "outputs": [
    {
     "name": "stdout",
     "output_type": "stream",
     "text": [
      "Hello, world!\n",
      "Hello, Gumby!\n"
     ]
    }
   ],
   "source": [
    "def hello(name):\n",
    "    return 'Hello, '+ name + '!'\n",
    "print(hello('world'))\n",
    "print(hello('Gumby'))"
   ]
  },
  {
   "cell_type": "code",
   "execution_count": 3,
   "metadata": {},
   "outputs": [
    {
     "name": "stdout",
     "output_type": "stream",
     "text": [
      "[0, 1, 1, 2, 3, 5, 8, 13, 21, 34]\n",
      "[0, 1, 1, 2, 3, 5, 8, 13, 21, 34, 55, 89, 144, 233, 377]\n"
     ]
    }
   ],
   "source": [
    "def fibs(num):\n",
    "    result = [0,1]\n",
    "    for i in range(num-2):\n",
    "        result.append(result[-2] + result[-1])\n",
    "    return result\n",
    "print(fibs(10))\n",
    "print(fibs(15))"
   ]
  },
  {
   "cell_type": "code",
   "execution_count": 4,
   "metadata": {},
   "outputs": [
    {
     "data": {
      "text/plain": [
       "'Calculates the square of the number x.'"
      ]
     },
     "execution_count": 4,
     "metadata": {},
     "output_type": "execute_result"
    }
   ],
   "source": [
    "# 文档字符串\n",
    "def square(x):\n",
    "    'Calculates the square of the number x.'\n",
    "    return x * x\n",
    "square.__doc__"
   ]
  },
  {
   "cell_type": "code",
   "execution_count": 5,
   "metadata": {},
   "outputs": [
    {
     "name": "stdout",
     "output_type": "stream",
     "text": [
      "Help on function square in module __main__:\n",
      "\n",
      "square(x)\n",
      "    Calculates the square of the number x.\n",
      "\n"
     ]
    }
   ],
   "source": [
    "help(square)"
   ]
  },
  {
   "cell_type": "code",
   "execution_count": 6,
   "metadata": {},
   "outputs": [
    {
     "name": "stdout",
     "output_type": "stream",
     "text": [
      "This is printed\n",
      "None\n"
     ]
    }
   ],
   "source": [
    "def test():\n",
    "    print('This is printed')\n",
    "    return\n",
    "    print('This is not')\n",
    "x = test()\n",
    "print(x)"
   ]
  },
  {
   "cell_type": "code",
   "execution_count": 8,
   "metadata": {},
   "outputs": [
    {
     "name": "stdout",
     "output_type": "stream",
     "text": [
      "Mrs.Entity\n"
     ]
    }
   ],
   "source": [
    "def try_to_change(n):\n",
    "    n = 'Mr.Gumby'\n",
    "name = 'Mrs.Entity'\n",
    "try_to_change(name)\n",
    "print(name)"
   ]
  },
  {
   "cell_type": "code",
   "execution_count": 9,
   "metadata": {},
   "outputs": [
    {
     "name": "stdout",
     "output_type": "stream",
     "text": [
      "['Mr.Gumby', 'Mrs.Thing']\n"
     ]
    }
   ],
   "source": [
    "def change(n):\n",
    "    n[0] = 'Mr.Gumby'\n",
    "names = ['Mrs.Entity','Mrs.Thing']\n",
    "change(names)\n",
    "print(names)"
   ]
  },
  {
   "cell_type": "code",
   "execution_count": 10,
   "metadata": {},
   "outputs": [
    {
     "name": "stdout",
     "output_type": "stream",
     "text": [
      "['Mrs.Entity', 'Mrs.Thing']\n"
     ]
    }
   ],
   "source": [
    "names2 = ['Mrs.Entity','Mrs.Thing']\n",
    "change(names2[:])\n",
    "print(names2)"
   ]
  },
  {
   "cell_type": "code",
   "execution_count": 11,
   "metadata": {},
   "outputs": [
    {
     "data": {
      "text/plain": [
       "['Magnus Lie Hetland']"
      ]
     },
     "execution_count": 11,
     "metadata": {},
     "output_type": "execute_result"
    }
   ],
   "source": [
    "storage = {}\n",
    "storage['first'] = {}\n",
    "storage['middle'] = {}\n",
    "storage['last'] = {}\n",
    "me = 'Magnus Lie Hetland'\n",
    "storage['first']['Magnus'] = [me]\n",
    "storage['middle']['Lie'] = [me]\n",
    "storage['last']['Hetland'] = [me]\n",
    "storage['middle']['Lie']"
   ]
  },
  {
   "cell_type": "code",
   "execution_count": 12,
   "metadata": {},
   "outputs": [
    {
     "name": "stdout",
     "output_type": "stream",
     "text": [
      "{'first': {'Magnus': ['Magnus Lie Hetland'], 'Anne': ['Anne Lie Hetland']}, 'middle': {'Lie': ['Magnus Lie Hetland', 'Anne Lie Hetland']}, 'last': {'Hetland': ['Magnus Lie Hetland', 'Anne Lie Hetland']}}\n"
     ]
    }
   ],
   "source": [
    "my_sister = 'Anne Lie Hetland'\n",
    "storage['first'].setdefault('Anne',[]).append(my_sister)\n",
    "storage['middle'].setdefault('Lie', []).append(my_sister)\n",
    "storage['last'].setdefault('Hetland',[]).append(my_sister)\n",
    "print(storage)"
   ]
  },
  {
   "cell_type": "code",
   "execution_count": 16,
   "metadata": {},
   "outputs": [
    {
     "data": {
      "text/plain": [
       "{'first': {}, 'last': {}, 'middle': {}}"
      ]
     },
     "execution_count": 16,
     "metadata": {},
     "output_type": "execute_result"
    }
   ],
   "source": [
    "def init(data):\n",
    "    data['first'] = {}\n",
    "    data['middle'] = {}\n",
    "    data['last'] = {}\n",
    "storage = {}\n",
    "init(storage)\n",
    "storage"
   ]
  },
  {
   "cell_type": "code",
   "execution_count": 22,
   "metadata": {},
   "outputs": [
    {
     "name": "stdout",
     "output_type": "stream",
     "text": [
      "['Magnus Lie Hetland']\n"
     ]
    }
   ],
   "source": [
    "def lookup(data,label,name):\n",
    "    return data[label].get(name)\n",
    "def store(data,full_name):\n",
    "    names = full_name.split()\n",
    "    if len(names) == 2:\n",
    "        names.insert(1,'')\n",
    "    labels = 'first','middle','last'\n",
    "    for label,name in zip(labels,names):\n",
    "        people = lookup(data,label,name)\n",
    "        if people:\n",
    "            people.append(full_name)\n",
    "        else:\n",
    "            data[label][name] = [full_name]\n",
    "MyNames = {}\n",
    "init(MyNames)\n",
    "store(MyNames,'Magnus Lie Hetland')\n",
    "print(lookup(MyNames,'middle','Lie'))"
   ]
  },
  {
   "cell_type": "code",
   "execution_count": 23,
   "metadata": {},
   "outputs": [
    {
     "name": "stdout",
     "output_type": "stream",
     "text": [
      "Hello, world!\n",
      "Hello, world!\n"
     ]
    }
   ],
   "source": [
    "def hello_1(greeting,name):\n",
    "    print('{}, {}!'.format(greeting,name))\n",
    "def hello_2(name,greeting):\n",
    "    print('{}, {}!'.format(name,greeting))\n",
    "hello_1('Hello','world')\n",
    "hello_2('Hello','world')"
   ]
  },
  {
   "cell_type": "code",
   "execution_count": 24,
   "metadata": {},
   "outputs": [
    {
     "name": "stdout",
     "output_type": "stream",
     "text": [
      "Hello, world!\n"
     ]
    }
   ],
   "source": [
    "hello_1(greeting='Hello',name='world')"
   ]
  },
  {
   "cell_type": "code",
   "execution_count": 25,
   "metadata": {},
   "outputs": [
    {
     "name": "stdout",
     "output_type": "stream",
     "text": [
      "Hello, world!\n"
     ]
    }
   ],
   "source": [
    "hello_1(name='world',greeting='Hello')"
   ]
  },
  {
   "cell_type": "code",
   "execution_count": 26,
   "metadata": {},
   "outputs": [
    {
     "name": "stdout",
     "output_type": "stream",
     "text": [
      "Hello, world!\n",
      "Greetings, world!\n",
      "Greetings, universe!\n"
     ]
    }
   ],
   "source": [
    "def hello_3(greeting='Hello',name='world'):\n",
    "    print('{}, {}!'.format(greeting,name))\n",
    "hello_3()\n",
    "hello_3('Greetings')\n",
    "hello_3('Greetings','universe')"
   ]
  },
  {
   "cell_type": "code",
   "execution_count": 27,
   "metadata": {},
   "outputs": [
    {
     "name": "stdout",
     "output_type": "stream",
     "text": [
      "Hello, Gumby!\n"
     ]
    }
   ],
   "source": [
    "hello_3(name='Gumby')"
   ]
  },
  {
   "cell_type": "code",
   "execution_count": 28,
   "metadata": {
    "scrolled": true
   },
   "outputs": [
    {
     "name": "stdout",
     "output_type": "stream",
     "text": [
      "Hello, Mars!\n",
      "Hwody, Mars!\n",
      "Howdy, Mars...\n",
      "Hello, Mars.\n",
      "Top pf the morning to ya, Mars!\n"
     ]
    },
    {
     "ename": "TypeError",
     "evalue": "hello_4() missing 1 required positional argument: 'name'",
     "output_type": "error",
     "traceback": [
      "\u001b[0;31m---------------------------------------------------------------------------\u001b[0m",
      "\u001b[0;31mTypeError\u001b[0m                                 Traceback (most recent call last)",
      "\u001b[0;32m<ipython-input-28-9f322b94c9de>\u001b[0m in \u001b[0;36m<module>\u001b[0;34m()\u001b[0m\n\u001b[1;32m      6\u001b[0m \u001b[0mhello_4\u001b[0m\u001b[0;34m(\u001b[0m\u001b[0;34m'Mars'\u001b[0m\u001b[0;34m,\u001b[0m\u001b[0mpunctuation\u001b[0m\u001b[0;34m=\u001b[0m\u001b[0;34m'.'\u001b[0m\u001b[0;34m)\u001b[0m\u001b[0;34m\u001b[0m\u001b[0m\n\u001b[1;32m      7\u001b[0m \u001b[0mhello_4\u001b[0m\u001b[0;34m(\u001b[0m\u001b[0;34m'Mars'\u001b[0m\u001b[0;34m,\u001b[0m\u001b[0mgreeting\u001b[0m\u001b[0;34m=\u001b[0m\u001b[0;34m'Top pf the morning to ya'\u001b[0m\u001b[0;34m)\u001b[0m\u001b[0;34m\u001b[0m\u001b[0m\n\u001b[0;32m----> 8\u001b[0;31m \u001b[0mhello_4\u001b[0m\u001b[0;34m(\u001b[0m\u001b[0;34m)\u001b[0m\u001b[0;34m\u001b[0m\u001b[0m\n\u001b[0m",
      "\u001b[0;31mTypeError\u001b[0m: hello_4() missing 1 required positional argument: 'name'"
     ]
    }
   ],
   "source": [
    "def hello_4(name,greeting='Hello',punctuation='!'):\n",
    "    print('{}, {}{}'.format(greeting,name,punctuation))\n",
    "hello_4('Mars')\n",
    "hello_4('Mars','Hwody')\n",
    "hello_4('Mars','Howdy','...')\n",
    "hello_4('Mars',punctuation='.')\n",
    "hello_4('Mars',greeting='Top pf the morning to ya')\n",
    "hello_4()"
   ]
  },
  {
   "cell_type": "code",
   "execution_count": 30,
   "metadata": {},
   "outputs": [
    {
     "name": "stdout",
     "output_type": "stream",
     "text": [
      "('Testing',)\n"
     ]
    }
   ],
   "source": [
    "# 收集参数\n",
    "def print_params(*params):\n",
    "    print(params)\n",
    "print_params('Testing')"
   ]
  },
  {
   "cell_type": "code",
   "execution_count": 31,
   "metadata": {},
   "outputs": [
    {
     "name": "stdout",
     "output_type": "stream",
     "text": [
      "(1, 2, 3)\n"
     ]
    }
   ],
   "source": [
    "print_params(1,2,3)"
   ]
  },
  {
   "cell_type": "code",
   "execution_count": 32,
   "metadata": {},
   "outputs": [
    {
     "name": "stdout",
     "output_type": "stream",
     "text": [
      "Param\n",
      "(1, 2, 3)\n"
     ]
    }
   ],
   "source": [
    "def print_params_2(title,*params):\n",
    "    print(title)\n",
    "    print(params)\n",
    "print_params_2('Param',1,2,3)"
   ]
  },
  {
   "cell_type": "code",
   "execution_count": 33,
   "metadata": {},
   "outputs": [
    {
     "name": "stdout",
     "output_type": "stream",
     "text": [
      "Nothing:\n",
      "()\n"
     ]
    }
   ],
   "source": [
    "print_params_2('Nothing:')"
   ]
  },
  {
   "cell_type": "code",
   "execution_count": 34,
   "metadata": {
    "scrolled": true
   },
   "outputs": [
    {
     "name": "stdout",
     "output_type": "stream",
     "text": [
      "1 (2, 3, 4, 5) 7\n"
     ]
    },
    {
     "ename": "TypeError",
     "evalue": "in_the_middle() missing 1 required keyword-only argument: 'z'",
     "output_type": "error",
     "traceback": [
      "\u001b[0;31m---------------------------------------------------------------------------\u001b[0m",
      "\u001b[0;31mTypeError\u001b[0m                                 Traceback (most recent call last)",
      "\u001b[0;32m<ipython-input-34-6e83364eb430>\u001b[0m in \u001b[0;36m<module>\u001b[0;34m()\u001b[0m\n\u001b[1;32m      2\u001b[0m     \u001b[0mprint\u001b[0m\u001b[0;34m(\u001b[0m\u001b[0mx\u001b[0m\u001b[0;34m,\u001b[0m\u001b[0my\u001b[0m\u001b[0;34m,\u001b[0m\u001b[0mz\u001b[0m\u001b[0;34m)\u001b[0m\u001b[0;34m\u001b[0m\u001b[0m\n\u001b[1;32m      3\u001b[0m \u001b[0min_the_middle\u001b[0m\u001b[0;34m(\u001b[0m\u001b[0;36m1\u001b[0m\u001b[0;34m,\u001b[0m\u001b[0;36m2\u001b[0m\u001b[0;34m,\u001b[0m\u001b[0;36m3\u001b[0m\u001b[0;34m,\u001b[0m\u001b[0;36m4\u001b[0m\u001b[0;34m,\u001b[0m\u001b[0;36m5\u001b[0m\u001b[0;34m,\u001b[0m\u001b[0mz\u001b[0m\u001b[0;34m=\u001b[0m\u001b[0;36m7\u001b[0m\u001b[0;34m)\u001b[0m\u001b[0;34m\u001b[0m\u001b[0m\n\u001b[0;32m----> 4\u001b[0;31m \u001b[0min_the_middle\u001b[0m\u001b[0;34m(\u001b[0m\u001b[0;36m1\u001b[0m\u001b[0;34m,\u001b[0m\u001b[0;36m2\u001b[0m\u001b[0;34m,\u001b[0m\u001b[0;36m3\u001b[0m\u001b[0;34m,\u001b[0m\u001b[0;36m4\u001b[0m\u001b[0;34m,\u001b[0m\u001b[0;36m5\u001b[0m\u001b[0;34m,\u001b[0m\u001b[0;36m7\u001b[0m\u001b[0;34m)\u001b[0m\u001b[0;34m\u001b[0m\u001b[0m\n\u001b[0m",
      "\u001b[0;31mTypeError\u001b[0m: in_the_middle() missing 1 required keyword-only argument: 'z'"
     ]
    }
   ],
   "source": [
    "def in_the_middle(x,*y,z):\n",
    "    print(x,y,z)\n",
    "in_the_middle(1,2,3,4,5,z=7)\n",
    "in_the_middle(1,2,3,4,5,7)"
   ]
  },
  {
   "cell_type": "code",
   "execution_count": 35,
   "metadata": {},
   "outputs": [
    {
     "ename": "TypeError",
     "evalue": "print_params_2() got an unexpected keyword argument 'something'",
     "output_type": "error",
     "traceback": [
      "\u001b[0;31m---------------------------------------------------------------------------\u001b[0m",
      "\u001b[0;31mTypeError\u001b[0m                                 Traceback (most recent call last)",
      "\u001b[0;32m<ipython-input-35-3b2ecc07b82c>\u001b[0m in \u001b[0;36m<module>\u001b[0;34m()\u001b[0m\n\u001b[0;32m----> 1\u001b[0;31m \u001b[0mprint_params_2\u001b[0m\u001b[0;34m(\u001b[0m\u001b[0;34m'Hmm...'\u001b[0m\u001b[0;34m,\u001b[0m\u001b[0msomething\u001b[0m\u001b[0;34m=\u001b[0m\u001b[0;36m42\u001b[0m\u001b[0;34m)\u001b[0m\u001b[0;34m\u001b[0m\u001b[0m\n\u001b[0m",
      "\u001b[0;31mTypeError\u001b[0m: print_params_2() got an unexpected keyword argument 'something'"
     ]
    }
   ],
   "source": [
    "print_params_2('Hmm...',something=42)"
   ]
  },
  {
   "cell_type": "code",
   "execution_count": 37,
   "metadata": {},
   "outputs": [
    {
     "name": "stdout",
     "output_type": "stream",
     "text": [
      "{'x': 1, 'y': 2, 'z': 3}\n"
     ]
    }
   ],
   "source": [
    "def print_params_3(**params):\n",
    "    print(params)\n",
    "print_params_3(x=1,y=2,z=3)"
   ]
  },
  {
   "cell_type": "code",
   "execution_count": 40,
   "metadata": {},
   "outputs": [
    {
     "name": "stdout",
     "output_type": "stream",
     "text": [
      "1 2 3\n",
      "(5, 6, 7)\n",
      "{'foo': 1, 'bar': 2}\n"
     ]
    }
   ],
   "source": [
    "def print_params_4(x,y,z=3,*pospar,**keypar):\n",
    "    print(x,y,z)\n",
    "    print(pospar)\n",
    "    print(keypar)\n",
    "print_params_4(1,2,3,5,6,7,foo=1,bar=2)"
   ]
  },
  {
   "cell_type": "code",
   "execution_count": 43,
   "metadata": {},
   "outputs": [
    {
     "name": "stdout",
     "output_type": "stream",
     "text": [
      "{'first': {'Han': ['Han Solo']}, 'middle': {'': ['Han Solo']}, 'last': {'Solo': ['Han Solo']}}\n",
      "{'first': {'Han': ['Han Solo'], 'Luke': ['Luke Skywalker'], 'Anakin': ['Anakin Skywalker']}, 'middle': {'': ['Han Solo', 'Luke Skywalker', 'Anakin Skywalker']}, 'last': {'Solo': ['Han Solo'], 'Skywalker': ['Luke Skywalker', 'Anakin Skywalker']}}\n"
     ]
    }
   ],
   "source": [
    "# 多个名字进行存储\n",
    "def store(data,*full_names):\n",
    "    for full_name in full_names:\n",
    "        names = full_name.split()\n",
    "        if len(names) == 2:\n",
    "            names.insert(1,'')\n",
    "        labels = 'first','middle','last'\n",
    "        for label,name in zip(labels,names):\n",
    "            people = lookup(data,label,name)\n",
    "            if people:\n",
    "                people.append(full_name)\n",
    "            else:\n",
    "                data[label][name] = [full_name]\n",
    "d = {}\n",
    "init(d)\n",
    "store(d,'Han Solo')\n",
    "print(d)\n",
    "store(d,'Luke Skywalker','Anakin Skywalker')\n",
    "print(d)"
   ]
  },
  {
   "cell_type": "code",
   "execution_count": 44,
   "metadata": {},
   "outputs": [
    {
     "data": {
      "text/plain": [
       "3"
      ]
     },
     "execution_count": 44,
     "metadata": {},
     "output_type": "execute_result"
    }
   ],
   "source": [
    "# 分配参数\n",
    "def add(x,y):\n",
    "    return x + y\n",
    "params = (1,2)\n",
    "add(*params)"
   ]
  },
  {
   "cell_type": "code",
   "execution_count": 45,
   "metadata": {},
   "outputs": [
    {
     "name": "stdout",
     "output_type": "stream",
     "text": [
      "Wellmet, Sir Robin!\n"
     ]
    }
   ],
   "source": [
    "params = {'name':'Sir Robin','greeting':'Wellmet'}\n",
    "hello_3(**params)"
   ]
  },
  {
   "cell_type": "code",
   "execution_count": null,
   "metadata": {
    "collapsed": true
   },
   "outputs": [],
   "source": [
    "def foo(x,y,z,m=2,n=0):\n",
    "    print(x,y,z,m,n)\n",
    "def call_foo(*args,**kwds):\n",
    "    foo(*args,**kwds)"
   ]
  },
  {
   "cell_type": "code",
   "execution_count": 59,
   "metadata": {},
   "outputs": [
    {
     "name": "stdout",
     "output_type": "stream",
     "text": [
      "Once upon a time, there was a king called Gumby.\n",
      "Once upon a time, there was a brave knight called Sir Robin.\n",
      "Once upon a time, there was a language called Python.\n",
      "Once upon a time, there was a stroke of genius called Python.\n"
     ]
    }
   ],
   "source": [
    "# exercise\n",
    "def story(**kwds):\n",
    "    return 'Once upon a time, there was a {job} called {name}.'.format_map(kwds)\n",
    "def power(x,y,*others):\n",
    "    if others:\n",
    "        print('Received redundant parameters:',others)\n",
    "    return pow(x,y)\n",
    "def interval(start,stop=None,step=1):\n",
    "    'Imitates range() for step > 0'\n",
    "    if stop is None:\n",
    "        start,stop = 0,start\n",
    "    result = []\n",
    "    i = start\n",
    "    while i < stop:\n",
    "        result.append(i)\n",
    "        i += step\n",
    "    return result\n",
    "print(story(job='king',name='Gumby'))\n",
    "print(story(name='Sir Robin',job='brave knight'))\n",
    "params = {'job':'language','name':'Python'}\n",
    "print(story(**params))\n",
    "del params['job']\n",
    "print(story(job='stroke of genius',**params))"
   ]
  },
  {
   "cell_type": "code",
   "execution_count": 55,
   "metadata": {},
   "outputs": [
    {
     "name": "stdout",
     "output_type": "stream",
     "text": [
      "8\n",
      "8\n",
      "3125\n",
      "Received redundant parameters: ('Hello, world!',)\n",
      "27\n"
     ]
    }
   ],
   "source": [
    "print(power(2,3))\n",
    "print(power(y=3,x=2))\n",
    "params = (5,)*2\n",
    "print(power(*params))\n",
    "print(power(3,3,'Hello, world!'))"
   ]
  },
  {
   "cell_type": "code",
   "execution_count": 60,
   "metadata": {},
   "outputs": [
    {
     "name": "stdout",
     "output_type": "stream",
     "text": [
      "[0, 1, 2, 3, 4, 5, 6, 7, 8, 9]\n",
      "[1, 2, 3, 4]\n",
      "[3, 7, 11]\n",
      "Received redundant parameters: (5, 6)\n",
      "81\n"
     ]
    }
   ],
   "source": [
    "print(interval(10))\n",
    "print(interval(1,5))\n",
    "print(interval(3,12,4))\n",
    "print(power(*interval(3,7)))"
   ]
  },
  {
   "cell_type": "code",
   "execution_count": null,
   "metadata": {
    "collapsed": true
   },
   "outputs": [],
   "source": [
    "# 函数作用域，全局 局部 globals() locals() vars()\n",
    "# 函数内部定义全局变量 global x\n",
    "# 函数内部创建函数，闭包"
   ]
  },
  {
   "cell_type": "code",
   "execution_count": null,
   "metadata": {
    "collapsed": true
   },
   "outputs": [],
   "source": [
    "# 递归\n",
    "## 阶乘\n",
    "def factorial(n):\n",
    "    result = n\n",
    "    for i in range(1,n):\n",
    "        result *= i\n",
    "    return result\n",
    "def factorial_1(n):\n",
    "    if n == 1:\n",
    "        return 1\n",
    "    else:\n",
    "        return n * factorial_1(n - 1)"
   ]
  },
  {
   "cell_type": "code",
   "execution_count": null,
   "metadata": {
    "collapsed": true
   },
   "outputs": [],
   "source": [
    "## 幂\n",
    "def power(x,n):\n",
    "    result = 1\n",
    "    for i in range(n):\n",
    "        result *= x\n",
    "    return result\n",
    "def power_1(x,n):\n",
    "    if n == 0:\n",
    "        return 1\n",
    "    else:\n",
    "        return x * power_1(x,n - 1)"
   ]
  },
  {
   "cell_type": "code",
   "execution_count": 63,
   "metadata": {},
   "outputs": [
    {
     "name": "stdout",
     "output_type": "stream",
     "text": [
      "[4, 8, 34, 67, 95, 100, 123]\n",
      "2\n",
      "5\n"
     ]
    }
   ],
   "source": [
    "## 二分查找\n",
    "def search(sequence,number,lower=0,upper=None):\n",
    "    if upper is None:\n",
    "        upper = len(sequence) - 1\n",
    "    if lower == upper:\n",
    "        assert number == sequence[upper]\n",
    "        return upper\n",
    "    else:\n",
    "        middle = (lower + upper)//2\n",
    "        if number > sequence[middle]:\n",
    "            return search(sequence,number,middle + 1,upper)\n",
    "        else:\n",
    "            return search(sequence,number,lower,middle)\n",
    "seq = [34,67,8,123,4,100,95]\n",
    "seq.sort()\n",
    "print(seq)\n",
    "print(search(seq,34))\n",
    "print(search(seq,100))"
   ]
  },
  {
   "cell_type": "code",
   "execution_count": 64,
   "metadata": {},
   "outputs": [
    {
     "name": "stdout",
     "output_type": "stream",
     "text": [
      "['0', '1', '2', '3', '4', '5', '6', '7', '8', '9']\n",
      "['0', '1', '2', '3', '4', '5', '6', '7', '8', '9']\n"
     ]
    }
   ],
   "source": [
    "print(list(map(str,range(10))))\n",
    "print([str(i) for i in range(10)])"
   ]
  },
  {
   "cell_type": "code",
   "execution_count": 65,
   "metadata": {},
   "outputs": [
    {
     "name": "stdout",
     "output_type": "stream",
     "text": [
      "['foo', 'x41']\n",
      "['foo', 'x41']\n"
     ]
    }
   ],
   "source": [
    "def func(x):\n",
    "    return x.isalnum()\n",
    "seq = [\"foo\", \"x41\", \"?!\", \"***\"]\n",
    "print(list(filter(func,seq)))\n",
    "print([x for x in seq if x.isalnum()])"
   ]
  },
  {
   "cell_type": "code",
   "execution_count": 67,
   "metadata": {},
   "outputs": [
    {
     "data": {
      "text/plain": [
       "['foo', 'x41']"
      ]
     },
     "execution_count": 67,
     "metadata": {},
     "output_type": "execute_result"
    }
   ],
   "source": [
    "# lambda\n",
    "list(filter(lambda x:x.isalnum(),seq))"
   ]
  },
  {
   "cell_type": "code",
   "execution_count": 68,
   "metadata": {},
   "outputs": [
    {
     "data": {
      "text/plain": [
       "1161"
      ]
     },
     "execution_count": 68,
     "metadata": {},
     "output_type": "execute_result"
    }
   ],
   "source": [
    "# reduce\n",
    "numbers =[72, 101, 108, 108, 111, 44, 32, 119, 111, 114, 108, 100, 33]\n",
    "from functools import reduce\n",
    "reduce(lambda x,y:x+y,numbers)"
   ]
  }
 ],
 "metadata": {
  "kernelspec": {
   "display_name": "Python 3",
   "language": "python",
   "name": "python3"
  },
  "language_info": {
   "codemirror_mode": {
    "name": "ipython",
    "version": 3
   },
   "file_extension": ".py",
   "mimetype": "text/x-python",
   "name": "python",
   "nbconvert_exporter": "python",
   "pygments_lexer": "ipython3",
   "version": "3.6.3"
  }
 },
 "nbformat": 4,
 "nbformat_minor": 2
}
