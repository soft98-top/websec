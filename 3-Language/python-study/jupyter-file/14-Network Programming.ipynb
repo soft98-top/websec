{
 "cells": [
  {
   "cell_type": "markdown",
   "metadata": {},
   "source": [
    "# 网络模块"
   ]
  },
  {
   "cell_type": "markdown",
   "metadata": {},
   "source": [
    "## socket模块\n",
    "\n",
    "套接字是模块socket中socket类的实例。实例化套接字时最多可指定三个参数：一个地址族（默认为socket.AF_INET）；是流套接字（socket.SOCK_STREAM，默认设置）还是数据报套接字（socket.SOCK_DGRAM）；协议（使用默认值0就好）。创建普通套接字时，不用提供任何参数。\n",
    "\n",
    "服务器套接字先调用方法bind，再调用方法listen来监听特定的地址。然后，客户端套接字就可连接到服务器了，办法是调用方法connect并提供调用方法bind时指定的地址（在服务器端，可使用函数socket.gethostname获取当前机器的主机名）。这里的地址是一个格式为(host, port)的元组，其中host是主机名（如www.example.com），而port是端口号（一个整数）。方法listen接受一个参数——待办任务清单的长度（即最多可有多少个连接在队列中等待接纳，到达这个数量后将开始拒绝连接）。\n",
    "\n",
    "服务器套接字开始监听后，就可接受客户端连接了，这是使用方法accept来完成的。这个方法将阻断（等待）到客户端连接到来为止，然后返回一个格式为(client, address)的元组，其中client是一个客户端套接字，而address是前面解释过的地址。服务器能以其认为合适的方式处理客户端连接，然后再次调用accept以接着等待新连接到来。这通常是在一个无限循环中完成的。\n",
    "\n",
    "“注意　这里讨论的服务器编程形式称为阻断（同步）网络编程。”\n",
    "\n",
    "为传输数据，套接字提供了两个方法：send和recv（表示receive）。要发送数据，可调用方法send并提供一个字符串；要接收数据，可调用recv并指定最多接收多少个字节的数据。如果不确定该指定什么数字，1024是个不错的选择。"
   ]
  },
  {
   "cell_type": "code",
   "execution_count": null,
   "metadata": {
    "collapsed": true
   },
   "outputs": [],
   "source": [
    "## 简单的服务器\n",
    "\n",
    "import socket\n",
    "s= socket.socket()\n",
    "\n",
    "host = socket.gethostname()\n",
    "port = 1234\n",
    "s.bind((host,port))\n",
    "\n",
    "s.listen(5)\n",
    "while True:\n",
    "    c,addr = s.accept()\n",
    "    print('Got connection from',addr)\n",
    "    c.send(b'Thank you for connecting')\n",
    "    c.close()"
   ]
  },
  {
   "cell_type": "code",
   "execution_count": null,
   "metadata": {
    "collapsed": true
   },
   "outputs": [],
   "source": [
    "## 简单的客户端\n",
    "import socket\n",
    "s= socket.socket()\n",
    "host = socket.gethostname()\n",
    "port = 1234\n",
    "s.connect((host,port))\n",
    "print(s.recv(1024))"
   ]
  },
  {
   "cell_type": "code",
   "execution_count": 4,
   "metadata": {},
   "outputs": [
    {
     "data": {
      "text/plain": [
       "<http.client.HTTPResponse at 0x7fc97e489668>"
      ]
     },
     "execution_count": 4,
     "metadata": {},
     "output_type": "execute_result"
    }
   ],
   "source": [
    "# “urlopen返回的类似于文件的对象支持方法close、read、readline和readlines，还支持迭代等。\n",
    "from urllib.request import urlopen\n",
    "webpage = urlopen('http://www.python.org')\n",
    "webpage"
   ]
  },
  {
   "cell_type": "code",
   "execution_count": 5,
   "metadata": {},
   "outputs": [
    {
     "name": "stdout",
     "output_type": "stream",
     "text": [
      "b'<a href=\"/about/\" title=\"\" class=\"\">About</a>'\n",
      "b'/about/'\n"
     ]
    }
   ],
   "source": [
    "import re\n",
    "text = webpage.read()\n",
    "m = re.search(b'<a href=\"([^\"]+)\".*?>about</a>',text,re.IGNORECASE)\n",
    "print(m.group())\n",
    "print(m.group(1))"
   ]
  },
  {
   "cell_type": "code",
   "execution_count": 8,
   "metadata": {},
   "outputs": [
    {
     "data": {
      "text/plain": [
       "('/Users/soft98/Documents/git/websec/Language/python-study/jupyter-file/py-file/14.1-urlretrieve',\n",
       " <http.client.HTTPMessage at 0x7fc97e641748>)"
      ]
     },
     "execution_count": 8,
     "metadata": {},
     "output_type": "execute_result"
    }
   ],
   "source": [
    "from urllib.request import urlretrieve\n",
    "urlretrieve('https://www.python.org','/Users/soft98/Documents/git/websec/Language/python-study/jupyter-file/py-file/14.1-urlretrieve')\n"
   ]
  },
  {
   "cell_type": "markdown",
   "metadata": {},
   "source": [
    "+ quote(string[, safe])：返回一个字符串，其中所有的特殊字符（在URL中有特殊意义的字符）都已替换为对URL友好的版本（如将~替换为%7E）。如果要将包含特殊字符的字符串用作URL，这很有用。参数safe是一个字符串（默认为'/'），包含不应像这样对其进行编码的字符。\n",
    "+ quote_plus(string[, safe])：类似于quote，但也将空格替换为加号。\n",
    "+ unquote(string)：与quote相反。\n",
    "+ unquote_plus(string)：与quote_plus相反。\n",
    "+ urlencode(query[, doseq])：将映射（如字典）或由包含两个元素的元组（形如(key, value)）组成的序列转换为“使用URL编码的”字符串。这样的字符串可用于CGI查询中（详细信息请参阅Python文档）。"
   ]
  },
  {
   "cell_type": "markdown",
   "metadata": {
    "collapsed": true
   },
   "source": [
    "Cookie\n",
    "Cookie对象操作，主要用于服务器 \n",
    "\n",
    "cookielib\n",
    "客户端Cookie支持\n",
    "\n",
    "httplib\n",
    "HTTP 客户端模块\n",
    "\n",
    "robotparser\n",
    "解析Web服务器robot文件\n",
    "\n",
    "SimpleXMLRPCServer\n",
    "一个简单的XML-RPC服务器（参见第27章）\n",
    "\n",
    "smtpd\n",
    "SMTP服务器模块\n",
    "\n",
    "smtplib\n",
    "SMTP客户端模块\n",
    "\n",
    "telnetlib\n",
    "Telnet客户端模块\n",
    "\n",
    "urlparse\n",
    "用于解读URL\n",
    "\n",
    "xmlrpclib\n",
    "XML-RPC客户端支持（参见第27章）"
   ]
  },
  {
   "cell_type": "markdown",
   "metadata": {},
   "source": [
    "编写简单的套接字服务器并不难。然而，如果要创建的并非简单服务器，还是求助于服务器模块吧。模块SocketServer是标准库提供的服务器框架的基石，这个框架包括BaseHTTPServer、SimpleHTTPServer、CGIHTTPServer、SimpleXMLRPCServer和DocXMLRPCServer等服务器，它们在基本服务器的基础上添加了各种功能。\n",
    "\n",
    "SocketServer包含4个基本的服务器：TCPServer（支持TCP套接字流）、UDPServer（支持UDP数据报套接字）以及更难懂的UnixStreamServer和UnixDatagramServer。后面3个你可能不会用到。\n",
    "\n",
    "使用模块SocketServer编写服务器时，大部分代码都位于请求处理器中。每当服务器收到客户端的连接请求时，都将实例化一个请求处理程序，并对其调用各种处理方法来处理请求。具体调用哪些方法取决于使用的服务器类和请求处理程序类；还可从这些请求处理器类派生出子类，从而让服务器调用一组自定义的处理方法。基本请求处理程序类BaseRequestHandler将所有操作都放在一个方法中——服务器调用的方法handle。这个方法可通过属性self.request来访问客户端套接字。如果处理的是流（使用TCPServer时很可能如此），可使“用StreamRequestHandler类，它包含另外两个属性：self.rfile（用于读取）和self.wfile（用于写入）。你可使用这两个类似于文件的对象来与客户端通信。"
   ]
  },
  {
   "cell_type": "code",
   "execution_count": null,
   "metadata": {
    "collapsed": true
   },
   "outputs": [],
   "source": [
    "# 基于SocketServer的极简服务器\n",
    "from socketserver import TCPServer, StreamRequestHandler\n",
    "\n",
    "class Handler(StreamRequestHandler):\n",
    "    def handle(self):\n",
    "        addr = self.request.getpeername()\n",
    "        print('Got connectio from', addr)\n",
    "        self.wfile.write('Thank you for connecting')\n",
    "\n",
    "server = TCPServer(('',1234),Handler)\n",
    "server.serve_forever()"
   ]
  },
  {
   "cell_type": "markdown",
   "metadata": {},
   "source": [
    "处理多个连接的主要方式有三种：分叉（forking）、线程化和异步I/O。通过结合使用SocketServer中的混合类和服务器类，很容易实现分叉和线程化"
   ]
  },
  {
   "cell_type": "code",
   "execution_count": null,
   "metadata": {
    "collapsed": true
   },
   "outputs": [],
   "source": [
    "# 分叉服务器\n",
    "from socketserver import TCPServer,ForkingMixIn,StreamRequestHandler\n",
    "\n",
    "class Server(ForkingMixIn,TCPServer):pass\n",
    "class Handler(StreamRequestHandler):\n",
    "    def handle(self):\n",
    "        addr = self.request.getpeername()\n",
    "        print('Got connection from',addr)\n",
    "        self.wfile.write(b'Thank you for connecting')\n",
    "server = Server(('',1234),Handler)\n",
    "server.serve_forever()"
   ]
  },
  {
   "cell_type": "code",
   "execution_count": null,
   "metadata": {
    "collapsed": true
   },
   "outputs": [],
   "source": [
    "# 线程服务器\n",
    "from socketserver import TCPServer,ThreadingMixIn,StreamRequestHandler\n",
    "\n",
    "class Server(ThreadingMixIn,TCPServer):pass\n",
    "class Handler(StreamRequestHandler):\n",
    "    def handle(self):\n",
    "        addr = self.request.getpeername()\n",
    "        print('Got connection from',addr)\n",
    "        self.wfile.write(b'Thank you for connecting')\n",
    "        \n",
    "server = Server(('',1234),Handler)\n",
    "server.serve_forever()"
   ]
  },
  {
   "cell_type": "markdown",
   "metadata": {},
   "source": [
    "函数select接受三个必不可少的参数和一个可选参数，其中前三个参数为序列，而第四个参数为超时时间（单位为秒）。这些序列包含文件描述符整数（也可以是这样的对象：包含返回文件描述符整数的方法fileno），表示我们正在等待的连接。这三个序列分别表示需要输入和输出以及发生异常（错误等）的连接。如果没有指定超时时间，select将阻断（即等待）到有文件描述符准备就绪；如果指定了超时时间，select将最多阻断指定的秒数；如果超时时间为零，select将不断轮询（即不阻断）。select返回三个序列（即一个长度为3的元组），其中每个序列都包含相应参数中处于活动状态的文件描述符。例如，返回的第一个序列包含有数据需要读取的所有输入文件描述符。这些序列也可包含文件对象（Windows不支持）或套接字。"
   ]
  },
  {
   "cell_type": "code",
   "execution_count": null,
   "metadata": {
    "collapsed": true
   },
   "outputs": [],
   "source": [
    "# 使用select的简单服务器\n",
    "import socbket,select\n",
    "\n",
    "s = socket.socket()\n",
    "host = socket.gethostname()\n",
    "port = 1234\n",
    "s.bind((host,port))\n",
    "s.listen(5)\n",
    "inputs = [s]\n",
    "while True:\n",
    "    rs,ws,es = select.select(inputs,[],[])\n",
    "    for r in rs:\n",
    "        if r is s:\n",
    "            c,addr = s.accept()\n",
    "            print('Got connection from',addr)\n",
    "            inputs.append(c)\n",
    "        else:\n",
    "            try:\n",
    "                data = r.recv(1024)\n",
    "                disconnected = not data\n",
    "            except socket.error:\n",
    "                disconnected = True\n",
    "            \n",
    "            if disconnected:\n",
    "                print(r.getpeername(),'disconnected')\n",
    "                inputs.remove(r)\n",
    "            else:\n",
    "                print(data)"
   ]
  },
  {
   "cell_type": "markdown",
   "metadata": {},
   "source": [
    "方法poll使用起来比select容易。调用poll时，将返回一个轮询对象。你可使用方法register向这个对象注册文件描述符（或包含方法fileno的对象）。注册后可使用方法unregister将它们删除。注册对象（如套接字）后，可调用其方法poll（它接受一个可选的超时时间参数）。这将返回一个包含(fd, event)元组的列表（可能为空），其中fd为文件描述符，而event是发生的事件。event是一个位掩码，这意味着它是一个整数，其各个位对应于不同的事件。各种事件是用select模块中的常量表示的，如表14-2所示。要检查指定的位是否为1（即是否发生了相应的事件），可下面这样使用按位与运算符（&）：\n",
    "\n",
    "if event & select.POLLIN: ...\n",
    "\n",
    "select模块中的轮询事件常量\n",
    "\n",
    "POLLIN\n",
    "文件描述符中有需要读取的数据\n",
    "\n",
    "POLLPRI\n",
    "文件描述符中有需要读取的紧急数据\n",
    "\n",
    "POLLOUT\n",
    "文件描述符为写入数据做好了准备\n",
    "\n",
    "POLLERR\n",
    "文件描述符出现了错误状态\n",
    "\n",
    "POLLHUP\n",
    "挂起。连接已断开。\n",
    "\n",
    "POLLNVAL\n",
    "无效请求。连接未打开"
   ]
  },
  {
   "cell_type": "code",
   "execution_count": null,
   "metadata": {
    "collapsed": true
   },
   "outputs": [],
   "source": [
    "# 使用poll的简单服务器\n",
    "\n",
    "import socket,select\n",
    "s = socket.socket()\n",
    "host = socket.gethostname()\n",
    "port = 1234\n",
    "s.bind((host,port))\n",
    "\n",
    "fdmap = {s.fileno():s}\n",
    "\n",
    "s.listen(5)\n",
    "p = select.poll()\n",
    "p.register(s)\n",
    "while True:\n",
    "    events = p.poll()\n",
    "    for fd,event in events:\n",
    "        if fd in fdmap:\n",
    "            c,addr = s.accept()\n",
    "            print('Got connection from',addr)\n",
    "            p.register(c)\n",
    "            fdmap[c.fileno()] = c\n",
    "        elif event & select.POLLIN:\n",
    "            data = fdmap[fd].recv(1024)\n",
    "            if not data:\n",
    "                print(fdmap[fd].getpeername(),'disconnected')\n",
    "                p.unregister(fd)\n",
    "                del fdmap[fd]\n",
    "            else:\n",
    "                print(data)"
   ]
  },
  {
   "cell_type": "markdown",
   "metadata": {},
   "source": [
    "Twisted是由Twisted Matrix Laboratories http://twistedmatrix.com 开发的，这是一个事件驱动的Python网络框架，最初是为编写网络游戏开发的，但现被各种网络软件使用。在Twisted中，你能实现事件处理程序，就像在GUI工具包（参见第12章）中一样。实际上，Twisted与多个常用的GUI工具包（Tk、GTK、Qt和wxWidgets）配合得天衣无缝。"
   ]
  },
  {
   "cell_type": "code",
   "execution_count": null,
   "metadata": {
    "collapsed": true
   },
   "outputs": [],
   "source": [
    "# Twisted 简单服务器\n",
    "from twisted.internet import reactor\n",
    "from twisted.internet.protocol import Protocol, Factory\n",
    "\n",
    "class SimpleLogger(Protocol):\n",
    "\n",
    "    def connectionMade(self):\n",
    "        print('Got connection from', self.transport.client)\n",
    "\n",
    "    def connectionLost(self, reason):\n",
    "        print(self.transport.client, 'disconnected')\n",
    "\n",
    "    def dataReceived(self, data):\n",
    "        print(data)\n",
    "\n",
    "factory = Factory()\n",
    "factory.protocol = SimpleLogger\n",
    "reactor.listenTCP(1234, factory)\n",
    "reactor.run()"
   ]
  },
  {
   "cell_type": "code",
   "execution_count": null,
   "metadata": {
    "collapsed": true
   },
   "outputs": [],
   "source": [
    "# 使用LineReceiver改进后的日志服务器\n",
    "from twisted.internet import reactor\n",
    "from twisted.internet.protocol import Factory\n",
    "from twisted.protocols.basic import LineReceiver\n",
    "\n",
    "class SimpleLogger(LineReceiver):\n",
    "\n",
    "    def connectionMade(self):\n",
    "        print('Got connection from', self.transport.client)\n",
    "\n",
    "    def connectionLost(self, reason):\n",
    "        print(self.transport.client, 'disconnected')\n",
    "\n",
    "    def lineReceived(self, line):\n",
    "        print(line)\n",
    "\n",
    "factory = Factory()\n",
    "factory.protocol = SimpleLogger\n",
    "\n",
    "reactor.listenTCP(1234, factory)\n",
    "reactor.run()"
   ]
  }
 ],
 "metadata": {
  "kernelspec": {
   "display_name": "Python 3",
   "language": "python",
   "name": "python3"
  },
  "language_info": {
   "codemirror_mode": {
    "name": "ipython",
    "version": 3
   },
   "file_extension": ".py",
   "mimetype": "text/x-python",
   "name": "python",
   "nbconvert_exporter": "python",
   "pygments_lexer": "ipython3",
   "version": "3.6.3"
  }
 },
 "nbformat": 4,
 "nbformat_minor": 2
}
